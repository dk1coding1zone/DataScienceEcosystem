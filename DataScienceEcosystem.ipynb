{
 "cells": [
  {
   "cell_type": "markdown",
   "id": "9ebf765e",
   "metadata": {},
   "source": [
    "# Data Science Tools and Ecosystem"
   ]
  },
  {
   "cell_type": "markdown",
   "id": "31af58f7",
   "metadata": {},
   "source": [
    "# Introduction\n",
    "\n",
    "In this notebook, we will provide an overview of the tools and ecosystem used in data science, which is a rapidly \n",
    "growing field that involves extracting knowledge and insights from various forms of data. With the increasing availability \n",
    "of data, it has become essential to have a good understanding of the tools and ecosystem used in data science to efficiently\n",
    "analyze and visualize data, build machine learning models, and derive meaningful insights that can help drive business decisions."
   ]
  },
  {
   "cell_type": "markdown",
   "id": "3a1d8ff5",
   "metadata": {},
   "source": [
    "# Data Science Languages\n",
    "### Some of the popular languages that Data Scientists use are:\n",
    "\n",
    "1. Python\n",
    "2. R\n",
    "3. SQL\n",
    "\n",
    "Python and R are two of the most popular programming languages in data science. Python is a versatile language that has a wide range of libraries and frameworks that can be used for data manipulation, visualization, and machine learning. R, on the other hand, has a rich set of statistical and graphical capabilities that make it a popular choice for data analysis.\n",
    "\n",
    "SQL, or Structured Query Language, is a domain-specific language used for managing and manipulating relational databases. As data is often stored in databases, it is essential for data scientists to have a good understanding of SQL to extract the necessary data for analysis."
   ]
  },
  {
   "cell_type": "markdown",
   "id": "44dac287",
   "metadata": {},
   "source": [
    "# Data Science Libraries\n",
    "#### Some of the commonly used libraries used by Data Scientists include:\n",
    "\n",
    "1. NumPy\n",
    "2. Pandas\n",
    "3. Matplotlib\n",
    "\n",
    "NumPy is a powerful library for numerical computing in Python. It provides support for large, multi-dimensional arrays and matrices, as well as a large library of mathematical functions to operate on these arrays.\n",
    "\n",
    "Pandas is a library used for data manipulation and analysis. It provides data structures for efficiently storing and manipulating large datasets, as well as a wide range of functions for data cleaning, merging, and transformation.\n",
    "\n",
    "Matplotlib is a widely used library for data visualization in Python. It provides a variety of graphs and plots, including line plots, scatter plots, bar plots, and histograms, which can be customized to suit different needs."
   ]
  },
  {
   "cell_type": "markdown",
   "id": "53fd5173",
   "metadata": {},
   "source": [
    "| Data Science Tools |\n",
    "| ------------------ |\n",
    "| Jupyter Notebook   |\n",
    "| Spyder             |\n",
    "| RStudio            |"
   ]
  },
  {
   "cell_type": "markdown",
   "id": "2697e2b6",
   "metadata": {},
   "source": [
    "### Below are a few examples of evaluating arithmetic expressions in Python."
   ]
  },
  {
   "cell_type": "code",
   "execution_count": 3,
   "id": "a27e2036",
   "metadata": {},
   "outputs": [
    {
     "name": "stdout",
     "output_type": "stream",
     "text": [
      "17\n"
     ]
    }
   ],
   "source": [
    "# This is a simple arithmetic expression to multiply then add integers\n",
    "result = (3*4)+5\n",
    "print(result)\n"
   ]
  },
  {
   "cell_type": "code",
   "execution_count": 4,
   "id": "5fd77851",
   "metadata": {},
   "outputs": [
    {
     "name": "stdout",
     "output_type": "stream",
     "text": [
      "3.3333333333333335\n"
     ]
    }
   ],
   "source": [
    "# This will convert 200 minutes to hours by dividing by 60\n",
    "minutes = 200\n",
    "hours = minutes / 60\n",
    "print(hours)\n"
   ]
  },
  {
   "cell_type": "markdown",
   "id": "7c30eaa7",
   "metadata": {},
   "source": [
    "## Objectives:\n",
    "\n",
    "- Understand the basics of Jupyter Notebook and its interface.\n",
    "- List popular languages for Data Science.\n",
    "- Demonstrate arithmetic operations in Python."
   ]
  },
  {
   "cell_type": "markdown",
   "id": "0889e136",
   "metadata": {},
   "source": [
    "## Author\n",
    "\n",
    "~ Deepak Singh (Msc 3rd Year)"
   ]
  }
 ],
 "metadata": {
  "kernelspec": {
   "display_name": "Python 3 (ipykernel)",
   "language": "python",
   "name": "python3"
  },
  "language_info": {
   "codemirror_mode": {
    "name": "ipython",
    "version": 3
   },
   "file_extension": ".py",
   "mimetype": "text/x-python",
   "name": "python",
   "nbconvert_exporter": "python",
   "pygments_lexer": "ipython3",
   "version": "3.10.9"
  }
 },
 "nbformat": 4,
 "nbformat_minor": 5
}
